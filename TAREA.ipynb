{
  "nbformat": 4,
  "nbformat_minor": 0,
  "metadata": {
    "colab": {
      "name": "Copia de TareaPython.ipynb",
      "version": "0.3.2",
      "provenance": [],
      "collapsed_sections": []
    },
    "kernelspec": {
      "name": "python3",
      "display_name": "Python 3"
    }
  },
  "cells": [
    {
      "metadata": {
        "id": "SPgMf3tqKwwl",
        "colab_type": "text"
      },
      "cell_type": "markdown",
      "source": [
        "De le solución y convierta en código pyton los siguientes problemas. \n",
        "\n",
        "\n",
        "1. Escriba una función que calcula el ángulo entre dos vectores.\n",
        "2. Escriba una función que devuelva los 3 ángulos con respecto a los ejes x, y y z de un vector tridimencional.\n",
        "3. Escriba una función que calcule el producto vectorial entre dos vectores tridimensionales.\n",
        "4. Traduzca el diagrama de flujo mostrado en la imagen al lenguaje Python y describa lo que realiza. \n",
        "![alt text](http://isapedraza.web.cern.ch/isapedraza/tmpWork/FisicaComputacional/diagrama.png)\n",
        "\n",
        "5. Diseñar un algoritmo en python que imprima y sume una serie la serie de números 3,6,9,12,...,99\n",
        "6. Escribir un algoritmo en python que lea cuatro números y que al final escriba el mayor de los cuatro.\n",
        "7. Diseñar un algorimo  en pytohn para calcular la velocidad (en m/s) de los corredores de la carrera de 1.500 metros. La entrada consistirá en parejas de números (minutos y segundos) que dan el tiempo del corredos; por cada corredor, el algoritmo debe imprimir el tiempo en minutos y segundos, así como la velocidad media. \n",
        "  Ejemplo de entrada de datos: (3,53)(3,40)(3,46)(3,52)(4,0)(0,0). El último par de datos se utilizará como fin de entrada de datos. \n",
        " \n",
        "8. Escribir un algoritmo que calcule la superficie de un triángulo en función de la base y la altura. ($A= 1/2 *Base * Altura$)\n",
        " \n",
        "9. Un sistema de ecuaciones lineales \n",
        " \\begin{equation}\n",
        "ax + by = c\n",
        " \\end{equation}\n",
        "\\begin{equation}\n",
        "dx + ey = f\n",
        "\\end{equation}\n",
        " \n",
        " se puede resolver con las siguientes fórmulas: \n",
        "\\begin{equation}\n",
        "x = \\frac{ce-bf}{ae-bd}\n",
        "\\end{equation}\n",
        "\n",
        "\\begin{equation}\n",
        "y = \\frac{af-cd}{ae-bd}\n",
        "\\end{equation}\n",
        "\n",
        "\n",
        "10. Diseñar un programa en Python que lea los dos conjutnos de coeficientes (a,b y c; d,e y f) y visualice los valores de $x$ y $y$. \n",
        " \n",
        " 11. Diseñe un programa que grafique las siguietes funciones en una misma gráfica. En el rango de -10 a 15. \n",
        " \\begin{equation}\n",
        "f1(x) = 2x^2 + 5x - 2\n",
        "\\end{equation}\n",
        "\\begin{equation}\n",
        "f2(x) = 4x + 1\n",
        "\\end{equation}\n",
        "---\n",
        "\n",
        "\n",
        "\n",
        "---\n",
        "\n",
        "\n",
        "\n",
        " "
      ]
    },
    {
      "metadata": {
        "id": "7Vf6dov1m5wg",
        "colab_type": "code",
        "colab": {
          "base_uri": "https://localhost:8080/",
          "height": 153
        },
        "outputId": "bfd3a415-c138-4adc-a92c-e56e21c2abbf"
      },
      "cell_type": "code",
      "source": [
        "#1\n",
        "import math\n",
        "x1=int(input(\"x1: \"))\n",
        "x2=int(input(\"x2: \"))\n",
        "x3=int(input(\"x3: \"))\n",
        "y1=int(input(\"y1: \"))\n",
        "y2=int(input(\"y2: \"))\n",
        "y3=int(input(\"y3: \"))\n",
        "a=x1*y1\n",
        "b=x2*y2\n",
        "c=x3*y3\n",
        "d=a+b+c\n",
        "e=x1**2+x2**2+x3**2\n",
        "f=y1**2+y2**2+y3**2\n",
        "g=math.sqrt(e)\n",
        "h=math.sqrt(f)\n",
        "i=g*h\n",
        "coss=float(d)/i\n",
        "an=math.acos(coss)\n",
        "print(\"El angulo en radianes es: \",an)\n",
        "ann=math.degrees(math.acos(coss))\n",
        "print(\"El angulo en grados es: \",ann)\n",
        " "
      ],
      "execution_count": 0,
      "outputs": [
        {
          "output_type": "stream",
          "text": [
            "x1: 2\n",
            "x2: -4\n",
            "x3: -1\n",
            "y1: 0\n",
            "y2: 5\n",
            "y3: 2\n",
            "El angulo en radianes es:  2.671408755771823\n",
            "El angulo en grados es:  153.06044706001995\n"
          ],
          "name": "stdout"
        }
      ]
    },
    {
      "metadata": {
        "id": "TF8U2CfyqMZE",
        "colab_type": "code",
        "colab": {
          "base_uri": "https://localhost:8080/",
          "height": 170
        },
        "outputId": "aa4264a0-8f7c-4fb1-da3c-04f7c5e03f8b"
      },
      "cell_type": "code",
      "source": [
        "#2\n",
        "import math\n",
        "x1=int(input(\"x1: \"))\n",
        "x2=int(input(\"x2: \"))\n",
        "x3=int(input(\"x3: \"))\n",
        "m=x1**2+x2**2+x3**2\n",
        "g=math.sqrt(m)\n",
        "a=float(x1)/g\n",
        "b=float(x2)/g\n",
        "c=float(x3)/g\n",
        "aa=math.acos(a)\n",
        "bb=math.acos(b)\n",
        "cc=math.acos(c)\n",
        "aaa=math.degrees(math.acos(a))\n",
        "bbb=math.degrees(math.acos(b))\n",
        "ccc=math.degrees(math.acos(c))\n",
        "print(\"El angulo con respecto al eje x en radianes es: \",aa)\n",
        "print(\"El angulo con respecto al eje y en radianes es: \",bb)\n",
        "print(\"El angulo con respecto al eje z en radianes es: \",cc)\n",
        "print(\"El angulo con respecto al eje x en grados es: \",aaa)\n",
        "print(\"El angulo con respecto al eje y en grados es: \",bbb)\n",
        "print(\"El angulo con respecto al eje z en grados es: \",ccc)"
      ],
      "execution_count": 0,
      "outputs": [
        {
          "output_type": "stream",
          "text": [
            "x1: 0\n",
            "x2: 10\n",
            "x3: 10\n",
            "El angulo con respecto al eje x en radianes es:  1.5707963267948966\n",
            "El angulo con respecto al eje y en radianes es:  0.7853981633974484\n",
            "El angulo con respecto al eje z en radianes es:  0.7853981633974484\n",
            "El angulo con respecto al eje x en grados es:  90.0\n",
            "El angulo con respecto al eje y en grados es:  45.00000000000001\n",
            "El angulo con respecto al eje z en grados es:  45.00000000000001\n"
          ],
          "name": "stdout"
        }
      ]
    },
    {
      "metadata": {
        "id": "gOEByiC5siIz",
        "colab_type": "code",
        "colab": {
          "base_uri": "https://localhost:8080/",
          "height": 238
        },
        "outputId": "ec65e575-ca22-46bf-d4f0-d7b9b0416d44"
      },
      "cell_type": "code",
      "source": [
        "#3\n",
        "import math\n",
        "x1=int(input(\"x1: \"))\n",
        "x2=int(input(\"x2: \"))\n",
        "x3=int(input(\"x3: \"))\n",
        "y1=int(input(\"y1: \"))\n",
        "y2=int(input(\"y2: \"))\n",
        "y3=int(input(\"y3: \"))\n",
        "a=x2*y3-x3*y2\n",
        "b=x3*y1-x1*y3\n",
        "c=x1*y2-x2*y1\n",
        "e=a**2+b**2+c**2\n",
        "f=math.sqrt(e)\n",
        "g=x1**2+x2**2+x3**2\n",
        "h=y1**2+y2**2+y3**2\n",
        "i=math.sqrt(g)\n",
        "j=math.sqrt(h)\n",
        "k=i*j\n",
        "l=float(f)/k\n",
        "m=math.asin(l)\n",
        "n=math.degrees(math.asin(l))\n",
        "print(\"El vector resultante es: \")\n",
        "print(a)\n",
        "print(b)\n",
        "print(c)\n",
        "print(\"Su modulo es: \",f)\n",
        "print(\"El angulo entre los dos vectores en radianes es: \",m)\n",
        "print(\"y en grados es: \",n)"
      ],
      "execution_count": 0,
      "outputs": [
        {
          "output_type": "stream",
          "text": [
            "x1: 5\n",
            "x2: 4\n",
            "x3: 6\n",
            "y1: 3\n",
            "y2: 5\n",
            "y3: 3\n",
            "El vector resultante es: \n",
            "-18\n",
            "3\n",
            "13\n",
            "Su modulo es:  22.40535650240808\n",
            "El angulo entre los dos vectores en radianes es:  0.39995703587314896\n",
            "y en grados es:  22.9158501420939\n"
          ],
          "name": "stdout"
        }
      ]
    },
    {
      "metadata": {
        "id": "guu13wTiwmDu",
        "colab_type": "code",
        "colab": {}
      },
      "cell_type": "code",
      "source": [
        "#4\n",
        "x=1\n",
        "while x<=5:\n",
        "  if x%3!=0:\n",
        "    print(x)\n",
        "  x=x+2\n",
        "print(\"stop\")"
      ],
      "execution_count": 0,
      "outputs": []
    },
    {
      "metadata": {
        "id": "wKrBIf1Jw1gV",
        "colab_type": "code",
        "colab": {
          "base_uri": "https://localhost:8080/",
          "height": 595
        },
        "outputId": "7435fcc6-3e71-4c77-debe-1d6119ef0cd3"
      },
      "cell_type": "code",
      "source": [
        "#5\n",
        "x=0\n",
        "y=x\n",
        "v=[]\n",
        "while y<97:\n",
        "  y=y+3\n",
        "  print(y)\n",
        "  v.append(y)\n",
        "s=sum(v)\n",
        "print(\"La suma es: \",s)"
      ],
      "execution_count": 0,
      "outputs": [
        {
          "output_type": "stream",
          "text": [
            "3\n",
            "6\n",
            "9\n",
            "12\n",
            "15\n",
            "18\n",
            "21\n",
            "24\n",
            "27\n",
            "30\n",
            "33\n",
            "36\n",
            "39\n",
            "42\n",
            "45\n",
            "48\n",
            "51\n",
            "54\n",
            "57\n",
            "60\n",
            "63\n",
            "66\n",
            "69\n",
            "72\n",
            "75\n",
            "78\n",
            "81\n",
            "84\n",
            "87\n",
            "90\n",
            "93\n",
            "96\n",
            "99\n",
            "La suma es:  1683\n"
          ],
          "name": "stdout"
        }
      ]
    },
    {
      "metadata": {
        "id": "usQ3SrO-w5o9",
        "colab_type": "code",
        "colab": {
          "base_uri": "https://localhost:8080/",
          "height": 102
        },
        "outputId": "0367c160-149e-4948-bf31-84b129a1ab14"
      },
      "cell_type": "code",
      "source": [
        "#6\n",
        "x=int(input(\"NUMERO 1: \"))\n",
        "y=int(input(\"NUMERO 2: \"))\n",
        "z=int(input(\"NUMERO 3: \"))\n",
        "w=int(input(\"NUMERO 4: \"))\n",
        "v=[x,y,z,w]\n",
        "maxi=max(v)\n",
        "print(\"El máximo es: \",maxi)"
      ],
      "execution_count": 0,
      "outputs": [
        {
          "output_type": "stream",
          "text": [
            "NUMERO 1: 4\n",
            "NUMERO 2: 3\n",
            "NUMERO 3: 2\n",
            "NUMERO 4: 5\n",
            "El máximo es:  5\n"
          ],
          "name": "stdout"
        }
      ]
    },
    {
      "metadata": {
        "id": "fAEpWYIQw_It",
        "colab_type": "code",
        "colab": {}
      },
      "cell_type": "code",
      "source": [
        "import re\n",
        "print(\"Dar los valores de cada corredor en minutos y segundos en el formado: (m,s)(m1,s1)...\")\n",
        "n=input(\"Dar los valores de cada corredor en minutos y segundos en el formado: (m,s)(m1,s1)...\")\n",
        "a=[float(s) for s in re.findall('\\d+',n)]\n",
        "print(a)\n",
        "t=0\n",
        "while t<100:\n",
        "  b=[a[i] for i in (t,t+1)]\n",
        "  g=float(b[0])/60\n",
        "  f=g+b[1]\n",
        "  v=1500/float(f)\n",
        "  print(\"la velocidad es: \",v)\n",
        "  "
      ],
      "execution_count": 0,
      "outputs": []
    },
    {
      "metadata": {
        "id": "vgkSAJQ83kIf",
        "colab_type": "code",
        "colab": {
          "base_uri": "https://localhost:8080/",
          "height": 68
        },
        "outputId": "881508b3-86ae-4b6e-de74-a0a6db9edf52"
      },
      "cell_type": "code",
      "source": [
        "#8\n",
        "b=int(input(\"Introduzca la base del triángulo: \"))\n",
        "a=int(input(\"Introduzca la altura del triángulo: \"))\n",
        "p=a*b\n",
        "s=float(p)/2\n",
        "print(\"La superficie del triangulo es: \",s)"
      ],
      "execution_count": 0,
      "outputs": [
        {
          "output_type": "stream",
          "text": [
            "Introduzca la base del triángulo: 30\n",
            "Introduzca la altura del triángulo: 0\n",
            "La superficie del triangulo es:  0.0\n"
          ],
          "name": "stdout"
        }
      ]
    },
    {
      "metadata": {
        "id": "4mTQAH0e3paO",
        "colab_type": "code",
        "colab": {
          "base_uri": "https://localhost:8080/",
          "height": 221
        },
        "outputId": "630d5450-9bb1-47b4-97d7-3c0555d5c94e"
      },
      "cell_type": "code",
      "source": [
        "#9.a\n",
        "print(\"Para resolver un sistema de ecuaciones de la forma: \\n ax + by = c \\n dx + ey = f \\nes necesario conocer los valores a, b, c, d, e y f.\")\n",
        "a=int(input(\"Interte valor de a: \"))\n",
        "b=int(input(\"Interte valor de b: \"))\n",
        "c=int(input(\"Interte valor de c: \"))\n",
        "d=int(input(\"Interte valor de d: \"))\n",
        "e=int(input(\"Interte valor de e: \"))\n",
        "f=int(input(\"Interte valor de f: \"))\n",
        "w=c*e-b*f\n",
        "r=a*e-b*d\n",
        "t=a*f-c*d\n",
        "g=float(w)/r\n",
        "s=float(t)/r\n",
        "print(\"El valor de x es: \",g)\n",
        "print(\"El valor de y es: \",s)"
      ],
      "execution_count": 0,
      "outputs": [
        {
          "output_type": "stream",
          "text": [
            "Para resolver un sistema de ecuaciones de la forma: \n",
            " ax + by = c \n",
            " dx + ey = f \n",
            "es necesario conocer los valores a, b, c, d, e y f.\n",
            "Interte valor de a: 4\n",
            "Interte valor de b: 5\n",
            "Interte valor de c: 6\n",
            "Interte valor de d: 2\n",
            "Interte valor de e: 3\n",
            "Interte valor de f: 4\n",
            "El valor de x es:  -1.0\n",
            "El valor de y es:  2.0\n"
          ],
          "name": "stdout"
        }
      ]
    },
    {
      "metadata": {
        "id": "29t3e4_B3vC_",
        "colab_type": "code",
        "colab": {
          "base_uri": "https://localhost:8080/",
          "height": 347
        },
        "outputId": "a64106ce-c8e0-4cc2-9cc4-b13133893c50"
      },
      "cell_type": "code",
      "source": [
        "#9.b\n",
        "import math\n",
        "import matplotlib.pyplot as plt\n",
        "x=[-10,]\n",
        "d=-10\n",
        "while d<=15:\n",
        "  x.append(d)\n",
        "  d=d+0.1\n",
        "ye=[]\n",
        "for i in x:\n",
        "  a=i**2\n",
        "  y=2*a+5*i-2\n",
        "  ye.append(y)\n",
        "yee=[]\n",
        "for i in x:\n",
        "  yes=4*i+1\n",
        "  yee.append(yes)\n",
        "plt.plot(x,ye)\n",
        "plt.plot(x,yee)\n",
        "plt.show()"
      ],
      "execution_count": 0,
      "outputs": [
        {
          "output_type": "display_data",
          "data": {
            "image/png": "[encoded data removed]",
            "text/plain": [
              "<matplotlib.figure.Figure at 0x7fafa45fcf28>"
            ]
          },
          "metadata": {
            "tags": []
          }
        }
      ]
    }
  ]
}